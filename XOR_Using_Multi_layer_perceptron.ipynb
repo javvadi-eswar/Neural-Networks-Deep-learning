{
  "nbformat": 4,
  "nbformat_minor": 0,
  "metadata": {
    "colab": {
      "provenance": []
    },
    "kernelspec": {
      "name": "python3",
      "display_name": "Python 3"
    },
    "language_info": {
      "name": "python"
    }
  },
  "cells": [
    {
      "cell_type": "code",
      "execution_count": 30,
      "metadata": {
        "id": "JV3K7ZuftPe9"
      },
      "outputs": [],
      "source": [
        "import numpy as np\n",
        "import matplotlib.pyplot as plt\n",
        "import sys\n"
      ]
    },
    {
      "cell_type": "code",
      "source": [
        "X = np.array([\n",
        "[0, 0],\n",
        "[0, 1],\n",
        "[1, 0],\n",
        "[1, 1]\n",
        "])\n",
        "# The labels for the training data.\n",
        "y = np.array([\n",
        "[0],\n",
        "[1],\n",
        "[1],\n",
        "[0]\n",
        "])"
      ],
      "metadata": {
        "id": "yQvN1ESvvv6y"
      },
      "execution_count": 31,
      "outputs": []
    },
    {
      "cell_type": "code",
      "source": [
        "W11 = np.asarray([1,1])\n",
        "W12 = np.asarray([1,1])\n",
        "W2 =  np.asarray([-1,1])\n",
        "\n",
        "B1 = np.asarray([-1.5,-0.5])\n",
        "B2 = np.asarray([-0.5])\n"
      ],
      "metadata": {
        "id": "nDhEFTp_uPnC"
      },
      "execution_count": 32,
      "outputs": []
    },
    {
      "cell_type": "code",
      "source": [
        "x=X[0]\n",
        "print(x)"
      ],
      "metadata": {
        "colab": {
          "base_uri": "https://localhost:8080/"
        },
        "id": "P5rDNsmgvpiW",
        "outputId": "216d34b6-1d24-4812-da29-bd9f2415e912"
      },
      "execution_count": 33,
      "outputs": [
        {
          "output_type": "stream",
          "name": "stdout",
          "text": [
            "[0 0]\n"
          ]
        }
      ]
    },
    {
      "cell_type": "code",
      "source": [
        "len(W11)"
      ],
      "metadata": {
        "colab": {
          "base_uri": "https://localhost:8080/"
        },
        "id": "8yiRkJpfxhk4",
        "outputId": "8cd68ad0-ccf0-47c3-bb73-21a316b3a680"
      },
      "execution_count": 34,
      "outputs": [
        {
          "output_type": "execute_result",
          "data": {
            "text/plain": [
              "2"
            ]
          },
          "metadata": {},
          "execution_count": 34
        }
      ]
    },
    {
      "cell_type": "code",
      "source": [
        "def summation(x,Wt1,Wt2,Bs):\n",
        "  sumh=[0,0]\n",
        "  for i in range(len(x)):\n",
        "    sumh[i]=(x[0]*Wt1[i]+x[1]*Wt2[i])+Bs[i]\n",
        "  return sumh"
      ],
      "metadata": {
        "id": "3QWCMCu5vCoJ"
      },
      "execution_count": 35,
      "outputs": []
    },
    {
      "cell_type": "code",
      "source": [
        "sumv=summation(x,W11,W12,B1)"
      ],
      "metadata": {
        "id": "O2SrD_GUvc-y"
      },
      "execution_count": 36,
      "outputs": []
    },
    {
      "cell_type": "code",
      "source": [
        "print(sumv)\n"
      ],
      "metadata": {
        "colab": {
          "base_uri": "https://localhost:8080/"
        },
        "id": "VW2nqzXtvjAN",
        "outputId": "f2335e99-4c6c-4082-b4b4-cb1948133f61"
      },
      "execution_count": 37,
      "outputs": [
        {
          "output_type": "stream",
          "name": "stdout",
          "text": [
            "[-1.5, -0.5]\n"
          ]
        }
      ]
    },
    {
      "cell_type": "code",
      "source": [
        "def Heaviside (net):\n",
        "  if net >= 0:\n",
        "    return 1\n",
        "  else:\n",
        "    return 0\n"
      ],
      "metadata": {
        "id": "RtgY6JyRv3aW"
      },
      "execution_count": 38,
      "outputs": []
    },
    {
      "cell_type": "code",
      "source": [
        "hidden=[0,0]\n",
        "for i in range(len(sumv)):\n",
        "  hidden[i]=Heaviside(sumv[i])\n"
      ],
      "metadata": {
        "id": "H3Qt_YIEv9nw"
      },
      "execution_count": 39,
      "outputs": []
    },
    {
      "cell_type": "code",
      "source": [
        "print(hidden)\n"
      ],
      "metadata": {
        "colab": {
          "base_uri": "https://localhost:8080/"
        },
        "id": "2xrnI83GwFgK",
        "outputId": "bb4e710c-e558-4b40-bcc7-ca27b1f01396"
      },
      "execution_count": 40,
      "outputs": [
        {
          "output_type": "stream",
          "name": "stdout",
          "text": [
            "[0, 0]\n"
          ]
        }
      ]
    },
    {
      "cell_type": "code",
      "source": [
        "sumo=np.dot(hidden,W2)+B2[0]\n",
        "y_pred=Heaviside(sumo)\n"
      ],
      "metadata": {
        "id": "z-zsTvRVwMKt"
      },
      "execution_count": 41,
      "outputs": []
    },
    {
      "cell_type": "code",
      "source": [
        "print(y_pred)"
      ],
      "metadata": {
        "colab": {
          "base_uri": "https://localhost:8080/"
        },
        "id": "rjZCudCtwPx-",
        "outputId": "5948670d-acee-4688-904e-3d68d01420b5"
      },
      "execution_count": 42,
      "outputs": [
        {
          "output_type": "stream",
          "name": "stdout",
          "text": [
            "0\n"
          ]
        }
      ]
    },
    {
      "cell_type": "code",
      "source": [
        "y_pred=[]\n",
        "for i in range(X.shape[0]):\n",
        "  x=X[i]\n",
        "  sumv=summation(x,W11,W12,B1)\n",
        "  hidden=[0,0]\n",
        "  for i in range(len(sumv)):\n",
        "    hidden[i]=Heaviside(sumv[i])\n",
        "  sumo=np.dot(hidden,W2)+B2[0]\n",
        "  y_pred.append(Heaviside(sumo))"
      ],
      "metadata": {
        "id": "j9uWVEIAwZZ-"
      },
      "execution_count": 43,
      "outputs": []
    },
    {
      "cell_type": "code",
      "source": [
        "y_pred"
      ],
      "metadata": {
        "colab": {
          "base_uri": "https://localhost:8080/"
        },
        "id": "G59Kh4XWwnZx",
        "outputId": "d5efe4e0-40de-41b4-e5dd-f8f511a138b4"
      },
      "execution_count": 44,
      "outputs": [
        {
          "output_type": "execute_result",
          "data": {
            "text/plain": [
              "[0, 1, 1, 0]"
            ]
          },
          "metadata": {},
          "execution_count": 44
        }
      ]
    },
    {
      "cell_type": "code",
      "source": [
        ""
      ],
      "metadata": {
        "id": "szJyth4Mwx6p"
      },
      "execution_count": 44,
      "outputs": []
    }
  ]
}