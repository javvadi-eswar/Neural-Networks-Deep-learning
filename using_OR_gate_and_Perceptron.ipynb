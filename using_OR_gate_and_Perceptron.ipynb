{
  "nbformat": 4,
  "nbformat_minor": 0,
  "metadata": {
    "colab": {
      "provenance": []
    },
    "kernelspec": {
      "name": "python3",
      "display_name": "Python 3"
    },
    "language_info": {
      "name": "python"
    }
  },
  "cells": [
    {
      "cell_type": "code",
      "execution_count": 1,
      "metadata": {
        "colab": {
          "base_uri": "https://localhost:8080/"
        },
        "id": "VB4SsztGdQF4",
        "outputId": "cf490d1a-93af-4d19-a3da-c2f3fe012746"
      },
      "outputs": [
        {
          "output_type": "stream",
          "name": "stdout",
          "text": [
            "[0 1 1 1]\n"
          ]
        }
      ],
      "source": [
        "# Using OR gate\n",
        "import numpy as np\n",
        "\n",
        "x = np.array([[0, 0], [0, 1], [1, 0], [1, 1]])\n",
        "y = np.asarray([0, 1, 1, 1])\n",
        "y_pred = np.asarray([0, 0, 0, 0])\n",
        "w = np.asarray([1, 1])\n",
        "\n",
        "\n",
        "def step(_sum):\n",
        "    if _sum >= 1:\n",
        "        return 1\n",
        "    else:\n",
        "        return 0\n",
        "\n",
        "\n",
        "for i in range(x.shape[0]):\n",
        "    n = x[i]\n",
        "    _sum = np.dot(n, w)\n",
        "    y_pred[i] = step(_sum)\n",
        "\n",
        "print(y_pred)"
      ]
    },
    {
      "cell_type": "code",
      "source": [
        "# Using perceptron\n",
        "\n",
        "import numpy as np\n",
        "import matplotlib.pyplot as plt\n",
        "from sklearn.linear_model import Perceptron\n",
        "\n",
        "X= np.array([[0,0],[0,1],[1,0],[1,1]])\n",
        "\n",
        "y_pred= np.array([0,0,0,1])\n",
        "\n",
        "mod = Perceptron().fit(X,y_pred)\n",
        "\n",
        "output =  mod.predict(X)\n",
        "\n",
        "print(output)"
      ],
      "metadata": {
        "colab": {
          "base_uri": "https://localhost:8080/"
        },
        "id": "j8Npfe0idWmw",
        "outputId": "606a0400-9a89-4faf-da7c-bcff85a1260c"
      },
      "execution_count": 3,
      "outputs": [
        {
          "output_type": "stream",
          "name": "stdout",
          "text": [
            "[0 0 0 1]\n"
          ]
        }
      ]
    },
    {
      "cell_type": "code",
      "source": [],
      "metadata": {
        "id": "dfDxtpSvdYf5"
      },
      "execution_count": null,
      "outputs": []
    }
  ]
}